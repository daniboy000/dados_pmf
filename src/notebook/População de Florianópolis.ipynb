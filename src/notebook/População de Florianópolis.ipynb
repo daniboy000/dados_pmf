{
 "cells": [
  {
   "cell_type": "code",
   "execution_count": 3,
   "metadata": {},
   "outputs": [],
   "source": [
    "import pandas as pd"
   ]
  },
  {
   "cell_type": "code",
   "execution_count": 9,
   "metadata": {},
   "outputs": [
    {
     "data": {
      "text/html": [
       "<div>\n",
       "<style>\n",
       "    .dataframe thead tr:only-child th {\n",
       "        text-align: right;\n",
       "    }\n",
       "\n",
       "    .dataframe thead th {\n",
       "        text-align: left;\n",
       "    }\n",
       "\n",
       "    .dataframe tbody tr th {\n",
       "        vertical-align: top;\n",
       "    }\n",
       "</style>\n",
       "<table border=\"1\" class=\"dataframe\">\n",
       "  <thead>\n",
       "    <tr style=\"text-align: right;\">\n",
       "      <th></th>\n",
       "      <th>anos_10_a_19</th>\n",
       "      <th>anos_1_a_4</th>\n",
       "      <th>anos_20_a_24</th>\n",
       "      <th>anos_25_49</th>\n",
       "      <th>anos_5</th>\n",
       "      <th>anos_50_a_59</th>\n",
       "      <th>anos_60_a_64</th>\n",
       "      <th>anos_65_a_69</th>\n",
       "      <th>anos_6_a_9</th>\n",
       "      <th>anos_acima_70</th>\n",
       "      <th>...</th>\n",
       "      <th>mulheres_anos_5</th>\n",
       "      <th>mulheres_anos_50_a_59</th>\n",
       "      <th>mulheres_anos_60_a_64</th>\n",
       "      <th>mulheres_anos_65_a_69</th>\n",
       "      <th>mulheres_anos_6_a_9</th>\n",
       "      <th>mulheres_anos_acima_70</th>\n",
       "      <th>mulheres_menos_1_ano</th>\n",
       "      <th>mulheres_residentes</th>\n",
       "      <th>residentes</th>\n",
       "      <th>year</th>\n",
       "    </tr>\n",
       "  </thead>\n",
       "  <tbody>\n",
       "    <tr>\n",
       "      <th>0</th>\n",
       "      <td>159</td>\n",
       "      <td>43</td>\n",
       "      <td>96</td>\n",
       "      <td>361</td>\n",
       "      <td>13</td>\n",
       "      <td>97</td>\n",
       "      <td>31</td>\n",
       "      <td>18</td>\n",
       "      <td>63</td>\n",
       "      <td>37</td>\n",
       "      <td>...</td>\n",
       "      <td>5</td>\n",
       "      <td>54</td>\n",
       "      <td>19</td>\n",
       "      <td>8</td>\n",
       "      <td>39</td>\n",
       "      <td>24</td>\n",
       "      <td>4</td>\n",
       "      <td>490</td>\n",
       "      <td>925</td>\n",
       "      <td>2015</td>\n",
       "    </tr>\n",
       "    <tr>\n",
       "      <th>1</th>\n",
       "      <td>102</td>\n",
       "      <td>37</td>\n",
       "      <td>79</td>\n",
       "      <td>564</td>\n",
       "      <td>10</td>\n",
       "      <td>134</td>\n",
       "      <td>47</td>\n",
       "      <td>29</td>\n",
       "      <td>33</td>\n",
       "      <td>50</td>\n",
       "      <td>...</td>\n",
       "      <td>4</td>\n",
       "      <td>78</td>\n",
       "      <td>25</td>\n",
       "      <td>19</td>\n",
       "      <td>14</td>\n",
       "      <td>38</td>\n",
       "      <td>7</td>\n",
       "      <td>594</td>\n",
       "      <td>1096</td>\n",
       "      <td>2015</td>\n",
       "    </tr>\n",
       "    <tr>\n",
       "      <th>2</th>\n",
       "      <td>63</td>\n",
       "      <td>18</td>\n",
       "      <td>34</td>\n",
       "      <td>172</td>\n",
       "      <td>3</td>\n",
       "      <td>50</td>\n",
       "      <td>18</td>\n",
       "      <td>13</td>\n",
       "      <td>16</td>\n",
       "      <td>24</td>\n",
       "      <td>...</td>\n",
       "      <td>2</td>\n",
       "      <td>30</td>\n",
       "      <td>9</td>\n",
       "      <td>5</td>\n",
       "      <td>7</td>\n",
       "      <td>13</td>\n",
       "      <td>3</td>\n",
       "      <td>212</td>\n",
       "      <td>416</td>\n",
       "      <td>2015</td>\n",
       "    </tr>\n",
       "    <tr>\n",
       "      <th>3</th>\n",
       "      <td>76</td>\n",
       "      <td>19</td>\n",
       "      <td>41</td>\n",
       "      <td>215</td>\n",
       "      <td>2</td>\n",
       "      <td>55</td>\n",
       "      <td>22</td>\n",
       "      <td>8</td>\n",
       "      <td>24</td>\n",
       "      <td>20</td>\n",
       "      <td>...</td>\n",
       "      <td>1</td>\n",
       "      <td>31</td>\n",
       "      <td>11</td>\n",
       "      <td>4</td>\n",
       "      <td>10</td>\n",
       "      <td>11</td>\n",
       "      <td>1</td>\n",
       "      <td>246</td>\n",
       "      <td>485</td>\n",
       "      <td>2015</td>\n",
       "    </tr>\n",
       "    <tr>\n",
       "      <th>4</th>\n",
       "      <td>77</td>\n",
       "      <td>19</td>\n",
       "      <td>67</td>\n",
       "      <td>245</td>\n",
       "      <td>3</td>\n",
       "      <td>83</td>\n",
       "      <td>34</td>\n",
       "      <td>26</td>\n",
       "      <td>24</td>\n",
       "      <td>65</td>\n",
       "      <td>...</td>\n",
       "      <td>1</td>\n",
       "      <td>39</td>\n",
       "      <td>22</td>\n",
       "      <td>16</td>\n",
       "      <td>12</td>\n",
       "      <td>43</td>\n",
       "      <td>3</td>\n",
       "      <td>338</td>\n",
       "      <td>648</td>\n",
       "      <td>2015</td>\n",
       "    </tr>\n",
       "  </tbody>\n",
       "</table>\n",
       "<p>5 rows × 40 columns</p>\n",
       "</div>"
      ],
      "text/plain": [
       "   anos_10_a_19  anos_1_a_4  anos_20_a_24  anos_25_49  anos_5  anos_50_a_59  \\\n",
       "0           159          43            96         361      13            97   \n",
       "1           102          37            79         564      10           134   \n",
       "2            63          18            34         172       3            50   \n",
       "3            76          19            41         215       2            55   \n",
       "4            77          19            67         245       3            83   \n",
       "\n",
       "   anos_60_a_64  anos_65_a_69  anos_6_a_9  anos_acima_70  ...   \\\n",
       "0            31            18          63             37  ...    \n",
       "1            47            29          33             50  ...    \n",
       "2            18            13          16             24  ...    \n",
       "3            22             8          24             20  ...    \n",
       "4            34            26          24             65  ...    \n",
       "\n",
       "  mulheres_anos_5  mulheres_anos_50_a_59 mulheres_anos_60_a_64  \\\n",
       "0               5                     54                    19   \n",
       "1               4                     78                    25   \n",
       "2               2                     30                     9   \n",
       "3               1                     31                    11   \n",
       "4               1                     39                    22   \n",
       "\n",
       "   mulheres_anos_65_a_69  mulheres_anos_6_a_9  mulheres_anos_acima_70  \\\n",
       "0                      8                   39                      24   \n",
       "1                     19                   14                      38   \n",
       "2                      5                    7                      13   \n",
       "3                      4                   10                      11   \n",
       "4                     16                   12                      43   \n",
       "\n",
       "   mulheres_menos_1_ano  mulheres_residentes  residentes  year  \n",
       "0                     4                  490         925  2015  \n",
       "1                     7                  594        1096  2015  \n",
       "2                     3                  212         416  2015  \n",
       "3                     1                  246         485  2015  \n",
       "4                     3                  338         648  2015  \n",
       "\n",
       "[5 rows x 40 columns]"
      ]
     },
     "execution_count": 9,
     "metadata": {},
     "output_type": "execute_result"
    }
   ],
   "source": [
    "# read data from file\n",
    "file_name = 'data/dados_populacao.json'\n",
    "\n",
    "raw_data = pd.read_json(file_name, encoding='utf-8')"
   ]
  },
  {
   "cell_type": "code",
   "execution_count": 10,
   "metadata": {},
   "outputs": [
    {
     "data": {
      "text/plain": [
       "array(['anos_10_a_19', 'anos_1_a_4', 'anos_20_a_24', 'anos_25_49',\n",
       "       'anos_5', 'anos_50_a_59', 'anos_60_a_64', 'anos_65_a_69',\n",
       "       'anos_6_a_9', 'anos_acima_70', 'centro_saude', 'codigo_micro_area',\n",
       "       'distrito_sanitario', 'homens_anos_10_a_19', 'homens_anos_1_a_4',\n",
       "       'homens_anos_20_a_24', 'homens_anos_25_49', 'homens_anos_5',\n",
       "       'homens_anos_50_a_59', 'homens_anos_60_a_64', 'homens_anos_65_a_69',\n",
       "       'homens_anos_6_a_9', 'homens_anos_acima_70', 'homens_menos_1_ano',\n",
       "       'homens_residentes', 'menos_1_ano', 'mulheres_anos_10_a_19',\n",
       "       'mulheres_anos_1_a_4', 'mulheres_anos_20_a_24',\n",
       "       'mulheres_anos_25_49', 'mulheres_anos_5', 'mulheres_anos_50_a_59',\n",
       "       'mulheres_anos_60_a_64', 'mulheres_anos_65_a_69',\n",
       "       'mulheres_anos_6_a_9', 'mulheres_anos_acima_70',\n",
       "       'mulheres_menos_1_ano', 'mulheres_residentes', 'residentes', 'year'], dtype=object)"
      ]
     },
     "execution_count": 10,
     "metadata": {},
     "output_type": "execute_result"
    }
   ],
   "source": [
    "# Get all columns names\n",
    "raw_data.columns.values"
   ]
  },
  {
   "cell_type": "code",
   "execution_count": 21,
   "metadata": {},
   "outputs": [
    {
     "data": {
      "text/plain": [
       "array(['Continente', 'Leste', 'Sul', 'Centro', 'Norte'], dtype=object)"
      ]
     },
     "execution_count": 21,
     "metadata": {},
     "output_type": "execute_result"
    }
   ],
   "source": [
    "# Show values\n",
    "raw_data.distrito_sanitario.unique()"
   ]
  },
  {
   "cell_type": "code",
   "execution_count": 17,
   "metadata": {},
   "outputs": [],
   "source": [
    "# Convert all centro_saude to upper case\n",
    "raw_data.centro_saude = raw_data.centro_saude.str.upper()"
   ]
  },
  {
   "cell_type": "code",
   "execution_count": 19,
   "metadata": {},
   "outputs": [
    {
     "data": {
      "text/plain": [
       "array(['ABRAÃO', 'BARRA DA LAGOA', 'BALNEÁRIO', 'ARMAÇÃO', 'ALTO RIBEIRÃO',\n",
       "       'AGRONÔMICA', 'CANASVIEIRAS', 'CAMPECHE', 'CAIEIRA DA BARRA DO SUL',\n",
       "       'CACHOEIRA DO BOM JESUS', 'CENTRO', 'CARIANOS', 'CAPOEIRAS',\n",
       "       'CANTO DA LAGOA', 'COSTA DA LAGOA', 'CORREGO GRANDE', 'COQUEIROS',\n",
       "       'COLONINHA', 'FAZENDA DO RIO TAVARES', 'ESTREITO',\n",
       "       'COSTEIRA DO PIRAJUBAÉ', 'ITACORUBI', 'INGLESES',\n",
       "       'LAGOA DA CONCEICÃO', 'JURERE', 'JOÃO PAULO', 'JARDIM ATLÂNTICO',\n",
       "       'MONTE CRISTO', 'PANTANAL', 'NOVO CONTINENTE', 'MORRO DAS PEDRAS',\n",
       "       'MONTE SERRAT', 'SANTINHO', 'SACO GRANDE', 'SACO DOS LIMÕES',\n",
       "       'TRINDADE', 'TAPERA', 'SAPÉ', 'SANTO ANTONIO DE LISBOA',\n",
       "       'VARGEM PEQUENA', 'VARGEM GRANDE', 'VILA APARECIDA',\n",
       "       'SANTO ANTÔNIO DE LISBOA', 'RIO VERMELHO', 'RIO TAVARES',\n",
       "       'RIBEIRÃO DA ILHA', 'RATONES', 'PRAINHA', 'PONTA DAS CANAS',\n",
       "       'PÂNTANO DO SUL', 'PANTANO DO SUL', 'MORRO DA CAIXA',\n",
       "       'LAGOA DA CONCEIÇÃO', 'JURERÊ', 'COSTERIA DO PIRAJUBAÉ',\n",
       "       'CÓRREGO GRANDE', 'CONTINENTE', 'CAEIRA DA BARRA DO SUL'], dtype=object)"
      ]
     },
     "execution_count": 19,
     "metadata": {},
     "output_type": "execute_result"
    }
   ],
   "source": [
    "# Show all centro de saude\n",
    "raw_data.centro_saude.unique()"
   ]
  },
  {
   "cell_type": "code",
   "execution_count": 28,
   "metadata": {},
   "outputs": [
    {
     "data": {
      "text/plain": [
       "58"
      ]
     },
     "execution_count": 28,
     "metadata": {},
     "output_type": "execute_result"
    }
   ],
   "source": [
    "centros_saude = list(raw_data.centro_saude.unique())\n",
    "centros_saude.sort()\n",
    "len(centros_saude)"
   ]
  },
  {
   "cell_type": "code",
   "execution_count": 29,
   "metadata": {},
   "outputs": [
    {
     "name": "stdout",
     "output_type": "stream",
     "text": [
      "ABRAÃO\n",
      "AGRONÔMICA\n",
      "ALTO RIBEIRÃO\n",
      "ARMAÇÃO\n",
      "BALNEÁRIO\n",
      "BARRA DA LAGOA\n",
      "CACHOEIRA DO BOM JESUS\n",
      "CAEIRA DA BARRA DO SUL\n",
      "CAIEIRA DA BARRA DO SUL\n",
      "CAMPECHE\n",
      "CANASVIEIRAS\n",
      "CANTO DA LAGOA\n",
      "CAPOEIRAS\n",
      "CARIANOS\n",
      "CENTRO\n",
      "COLONINHA\n",
      "CONTINENTE\n",
      "COQUEIROS\n",
      "CORREGO GRANDE\n",
      "COSTA DA LAGOA\n",
      "COSTEIRA DO PIRAJUBAÉ\n",
      "COSTERIA DO PIRAJUBAÉ\n",
      "CÓRREGO GRANDE\n",
      "ESTREITO\n",
      "FAZENDA DO RIO TAVARES\n",
      "INGLESES\n",
      "ITACORUBI\n",
      "JARDIM ATLÂNTICO\n",
      "JOÃO PAULO\n",
      "JURERE\n",
      "JURERÊ\n",
      "LAGOA DA CONCEICÃO\n",
      "LAGOA DA CONCEIÇÃO\n",
      "MONTE CRISTO\n",
      "MONTE SERRAT\n",
      "MORRO DA CAIXA\n",
      "MORRO DAS PEDRAS\n",
      "NOVO CONTINENTE\n",
      "PANTANAL\n",
      "PANTANO DO SUL\n",
      "PONTA DAS CANAS\n",
      "PRAINHA\n",
      "PÂNTANO DO SUL\n",
      "RATONES\n",
      "RIBEIRÃO DA ILHA\n",
      "RIO TAVARES\n",
      "RIO VERMELHO\n",
      "SACO DOS LIMÕES\n",
      "SACO GRANDE\n",
      "SANTINHO\n",
      "SANTO ANTONIO DE LISBOA\n",
      "SANTO ANTÔNIO DE LISBOA\n",
      "SAPÉ\n",
      "TAPERA\n",
      "TRINDADE\n",
      "VARGEM GRANDE\n",
      "VARGEM PEQUENA\n",
      "VILA APARECIDA\n"
     ]
    }
   ],
   "source": [
    "for centro in centros_saude:\n",
    "    print(centro)"
   ]
  },
  {
   "cell_type": "code",
   "execution_count": null,
   "metadata": {
    "collapsed": true
   },
   "outputs": [],
   "source": [
    "# Replace CAEIRA DA BARRA DO SUL por CAIEIRA DA BARRA DO SUL"
   ]
  },
  {
   "cell_type": "code",
   "execution_count": null,
   "metadata": {
    "collapsed": true
   },
   "outputs": [],
   "source": [
    "# Replace CORREGO GRANDE por CÓRREGO GRANDE"
   ]
  },
  {
   "cell_type": "code",
   "execution_count": null,
   "metadata": {
    "collapsed": true
   },
   "outputs": [],
   "source": [
    "# Replace COSTERIA DO PIRAJUBAÉ por COSTEIRA DO PIRAJUBAÉ"
   ]
  },
  {
   "cell_type": "code",
   "execution_count": null,
   "metadata": {
    "collapsed": true
   },
   "outputs": [],
   "source": [
    "# Replace JURERE por JURERÊ"
   ]
  },
  {
   "cell_type": "code",
   "execution_count": null,
   "metadata": {
    "collapsed": true
   },
   "outputs": [],
   "source": [
    "# Replace LAGOA DA CONCEICÃO por LAGOA DA CONCEIÇÃO"
   ]
  },
  {
   "cell_type": "code",
   "execution_count": null,
   "metadata": {
    "collapsed": true
   },
   "outputs": [],
   "source": [
    "# Replace PANTANO DO SUL por PÂNTANO DO SUL"
   ]
  },
  {
   "cell_type": "code",
   "execution_count": null,
   "metadata": {
    "collapsed": true
   },
   "outputs": [],
   "source": [
    "# Replace SANTO ANTONIO DE LISBOA por SANTO ANTÔNIO DE LISBOA"
   ]
  },
  {
   "cell_type": "code",
   "execution_count": null,
   "metadata": {},
   "outputs": [],
   "source": []
  },
  {
   "cell_type": "code",
   "execution_count": null,
   "metadata": {
    "collapsed": true
   },
   "outputs": [],
   "source": []
  },
  {
   "cell_type": "code",
   "execution_count": null,
   "metadata": {
    "collapsed": true
   },
   "outputs": [],
   "source": []
  }
 ],
 "metadata": {
  "kernelspec": {
   "display_name": "Python 3",
   "language": "python",
   "name": "python3"
  },
  "language_info": {
   "codemirror_mode": {
    "name": "ipython",
    "version": 3
   },
   "file_extension": ".py",
   "mimetype": "text/x-python",
   "name": "python",
   "nbconvert_exporter": "python",
   "pygments_lexer": "ipython3",
   "version": "3.5.2"
  }
 },
 "nbformat": 4,
 "nbformat_minor": 2
}
